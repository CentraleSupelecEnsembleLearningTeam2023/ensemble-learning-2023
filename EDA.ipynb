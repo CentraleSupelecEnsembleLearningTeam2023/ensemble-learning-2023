{
 "cells": [
  {
   "cell_type": "code",
   "execution_count": 1,
   "metadata": {},
   "outputs": [
    {
     "name": "stdout",
     "output_type": "stream",
     "text": [
      "Notebook to show EDA work\n"
     ]
    }
   ],
   "source": [
    "print(\"Notebook to show EDA work\")"
   ]
  },
  {
   "cell_type": "code",
   "execution_count": null,
   "metadata": {},
   "outputs": [],
   "source": [
    "def plot_nyc_price_map(df):\n",
    "\n",
    "  '''Plot the listings of in nyc to get a better idea of the geolocation of expensive listings.\n",
    "  the price is limited to 500 as to not allow outliers to skew the scale of price color bar.\n",
    "  '''\n",
    "  #initializing the figure size\n",
    "  plt.figure(figsize=(10,8))\n",
    "  #import image\n",
    "  nyc_img=plt.imread('/content/Neighbourhoods_New_York_City_Map.png')\n",
    "  #scaling the image based on the latitude and longitude max and mins for proper output\n",
    "  plt.imshow(nyc_img,zorder=0,extent=[-74.258, -73.7, 40.49,40.92])\n",
    "  ax=plt.gca()\n",
    "  #using scatterplot again\n",
    "  df[df['price'] < 500].plot(kind='scatter', x='longitude', y='latitude', label='availability_365', c='price', ax=ax, \n",
    "            cmap=plt.get_cmap('jet'), colorbar=True, alpha=0.4, zorder=5, grid = False)\n",
    "\n",
    "  plt.legend()\n",
    "  plt.show()\n",
    "\n",
    "plot_nyc_price_map(df)"
   ]
  }
 ],
 "metadata": {
  "kernelspec": {
   "display_name": "Python 3",
   "language": "python",
   "name": "python3"
  },
  "language_info": {
   "codemirror_mode": {
    "name": "ipython",
    "version": 3
   },
   "file_extension": ".py",
   "mimetype": "text/x-python",
   "name": "python",
   "nbconvert_exporter": "python",
   "pygments_lexer": "ipython3",
   "version": "3.9.2"
  },
  "orig_nbformat": 4
 },
 "nbformat": 4,
 "nbformat_minor": 2
}
